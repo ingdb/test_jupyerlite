{
 "cells": [
  {
   "cell_type": "code",
   "execution_count": 1,
   "id": "434a78bd",
   "metadata": {},
   "outputs": [],
   "source": [
    "import asyncio\n",
    "from ag_motioncontrol import MotionController\n",
    "from ag_motioncontrol.generated_python_api.pyactiongraph.launcher import APIBase"
   ]
  },
  {
   "cell_type": "code",
   "execution_count": 2,
   "id": "57257686",
   "metadata": {},
   "outputs": [],
   "source": [
    "APIBase.simulator_port_range_start = 15000\n",
    "ide_host = \"127.0.0.1\"\n",
    "connection = \"simulation\"\n",
    "ide_client_conn_port = 20000\n",
    "ide_sim_conn_port = 30000\n",
    "ide_host = \"127.0.0.1\"\n",
    "api = MotionController(\"robot_01\", manual_transport_config=connection, force_reset=False, \n",
    "                    debug_log_level=0,\n",
    "                    additional_client_rpc_connections=[f'zmq in=tcp://{ide_host}:{ide_client_conn_port + 1} out=tcp://0.0.0.0:{ide_client_conn_port}'],\n",
    "                    additional_simulator_rpc_connections=[f'zmq in=tcp://{ide_host}:{ide_sim_conn_port + 1} out=tcp://0.0.0.0:{ide_sim_conn_port}'])\n"
   ]
  },
  {
   "cell_type": "code",
   "execution_count": 3,
   "id": "49fd4904",
   "metadata": {},
   "outputs": [
    {
     "name": "stdout",
     "output_type": "stream",
     "text": [
      "Axes 1 position: 0.05001933127641678\n",
      "Axes 2 position: 0.05001933127641678\n",
      "Axes 1 position: 0.049996208399534225\n",
      "Axes 2 position: 0.049973081797361374\n",
      "Axes 1 position: 0.049973081797361374\n",
      "Axes 2 position: 0.049973081797361374\n",
      "Axes 1 position: 0.049973081797361374\n",
      "Axes 2 position: 0.049973081797361374\n",
      "Shutting down simulator robot(robot_01)\n",
      "Shutted down simulator robot(robot_01)\n"
     ]
    }
   ],
   "source": [
    "async def actiongraph_test():\n",
    "        \n",
    "    test_movements = [\n",
    "        {\n",
    "            \"position\": 0.1,\n",
    "            \"axis\": 1,\n",
    "        },\n",
    "        {\n",
    "            \"position\": 0.15,\n",
    "            \"axis\": 2,\n",
    "        },\n",
    "        {\n",
    "            \"position\": 0.05,\n",
    "            \"axis\": 1,\n",
    "        },\n",
    "        {\n",
    "            \"position\": 0.05,\n",
    "            \"axis\": 2,\n",
    "        }  \n",
    "    ]\n",
    "    await api.start()\n",
    "    try:\n",
    "        await api.wait_for_ready()\n",
    "        for i in range(1, 3):\n",
    "            await api.set_pos_feedback_frequency(i, 50)\n",
    "\n",
    "        await asyncio.gather(*[api.do_homing(i, speed=0.1) for i in range(1, 3)])\n",
    "\n",
    "        for  _ in range(4):\n",
    "            await api.execute_movements(test_movements, max_acceleration=0.5)\n",
    "            for i in range(1, 3):\n",
    "                print(f\"Axes {i} position: {api.get_axis_pos(i)}\")\n",
    "     \n",
    "    finally:\n",
    "        await api.stop()\n",
    "t = asyncio.create_task(actiongraph_test())\n",
    "await t"
   ]
  },
  {
   "cell_type": "code",
   "execution_count": null,
   "id": "9cda4ff4",
   "metadata": {},
   "outputs": [],
   "source": []
  }
 ],
 "metadata": {
  "kernelspec": {
   "display_name": "Python 3 (ipykernel)",
   "language": "python",
   "name": "python3"
  },
  "language_info": {
   "codemirror_mode": {
    "name": "ipython",
    "version": 3
   },
   "file_extension": ".py",
   "mimetype": "text/x-python",
   "name": "python",
   "nbconvert_exporter": "python",
   "pygments_lexer": "ipython3",
   "version": "3.11.8"
  }
 },
 "nbformat": 4,
 "nbformat_minor": 5
}
